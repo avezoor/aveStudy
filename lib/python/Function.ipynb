{
  "nbformat": 4,
  "nbformat_minor": 0,
  "metadata": {
    "colab": {
      "provenance": [],
      "toc_visible": true
    },
    "kernelspec": {
      "name": "python3",
      "display_name": "Python 3"
    },
    "language_info": {
      "name": "python"
    }
  },
  "cells": [
    {
      "cell_type": "markdown",
      "source": [
        "> @Author.Name{Izzar Suly Nashrudin}"
      ],
      "metadata": {
        "id": "UIRRvob37Q_3"
      }
    },
    {
      "cell_type": "markdown",
      "source": [
        "# **Python Function**\n"
      ],
      "metadata": {
        "id": "XGQ3TkXk3TmL"
      }
    },
    {
      "cell_type": "markdown",
      "source": [
        "## **Function Types**\n",
        "We can differentiate functions into 2 types:\n",
        "1. Built-in functions - Functions are provided/created in Python, i.e `print()` , `type()` , `len()` , etc.\n",
        "2. User-defined functions - Functions created by the programmer himself\n",
        "* Python functions are a collection of statements to carry out certain tasks.\n",
        "* Functions help programmers to manage their programs so that they are more structured and efficient\n",
        "* Functions can reduce command repetition\n",
        "\n",
        "Functions syntax:"
      ],
      "metadata": {
        "id": "JWpPZ4qh3stL"
      }
    },
    {
      "cell_type": "code",
      "source": [
        "def function_name(parameters):\n",
        " \"\"\"docstring\"\"\"\n",
        " statement(s)"
      ],
      "metadata": {
        "id": "WuqLvLD332cq"
      },
      "execution_count": null,
      "outputs": []
    },
    {
      "cell_type": "markdown",
      "source": [
        "1. The keyword **def** is the beginning of the function header\n",
        "2. A unique function name to identify it from other functions. Function naming follows the rules for naming\n",
        "variables (identifiers).\n",
        "3. **Parameters (arguments)** are values that we can provide to the function. Optional, can be empty.\n",
        "4. **Colon** (:) to end the function header\n",
        "5. Optional documentation string (**docstring**) to explain the function created\n",
        "6. One or more valid commands (statements) which constitute the contents of the function. Statements\n",
        "must have a uniform **indent** (4 spaces/ 1 tab).\n",
        "7. Optional return statement to **return** an output from the function"
      ],
      "metadata": {
        "id": "oRvEY74D4BL6"
      }
    },
    {
      "cell_type": "code",
      "source": [
        "# Try creating a function like the one below, which has 1 argument\n",
        "\n",
        "def greeting(name):\n",
        " \"\"\"This function will provide a greeting\n",
        " to someone whose name is written in the argument\"\"\"\n",
        " print(\"Assalamualaikum, \"+ name +\"!\")"
      ],
      "metadata": {
        "id": "_yGQqfmN4Rhj"
      },
      "execution_count": null,
      "outputs": []
    },
    {
      "cell_type": "markdown",
      "source": [
        "**How to run functions in Python?**\n",
        "* Once we define a function, we can run it/call it from another function, another program, or from the\n",
        "Python prompt\n",
        "* To call a function, just type the function name and the appropriate parameters."
      ],
      "metadata": {
        "id": "30auoFaf4q6S"
      }
    },
    {
      "cell_type": "code",
      "source": [
        "# Call the greeting function created above\n",
        "greeting('Izzar')"
      ],
      "metadata": {
        "colab": {
          "base_uri": "https://localhost:8080/"
        },
        "id": "1768bm7G4piS",
        "outputId": "8a3bc191-c8cc-4d53-e07c-fc8ff4d82ef6"
      },
      "execution_count": null,
      "outputs": [
        {
          "output_type": "stream",
          "name": "stdout",
          "text": [
            "None\n"
          ]
        }
      ]
    },
    {
      "cell_type": "code",
      "source": [
        "# To view the docstring (documentation) of the function\n",
        "print(greeting.__doc__)"
      ],
      "metadata": {
        "colab": {
          "base_uri": "https://localhost:8080/"
        },
        "id": "79mkfQy944bZ",
        "outputId": "a8eef731-485c-4953-92e3-7fb9ef0c4213"
      },
      "execution_count": null,
      "outputs": [
        {
          "output_type": "stream",
          "name": "stdout",
          "text": [
            "This function will provide a greeting\n",
            " to someone whose name is written in the argument\n"
          ]
        }
      ]
    },
    {
      "cell_type": "markdown",
      "source": [
        "## **Return Statement**\n",
        "* The return statement is used to exit the function and return output to the command that called it\n",
        "Syntax of the return statement\n",
        "\n",
        "> `return [expression_list]`\n",
        "\n",
        "\n",
        "* This statement can contain expressions that can be evaluated or variables whose values will be\n",
        "returned as output\n",
        "* If there are no variables or expressions in this statement or there is no return statement in the function,\n",
        "then the function will return a None object\n",
        "For example, try printing the results of the greeting function above! What resulted?\n",
        "\n",
        "> `print(greeting('izzar'))`"
      ],
      "metadata": {
        "id": "nK1JPni25pAK"
      }
    },
    {
      "cell_type": "code",
      "source": [
        "# Call the greeting function created above\n",
        "print(greeting('Izzar'))"
      ],
      "metadata": {
        "colab": {
          "base_uri": "https://localhost:8080/"
        },
        "id": "8yjpI5Ax6eE5",
        "outputId": "904a66bb-7bce-4983-ceab-6c8ec7fe6d1b"
      },
      "execution_count": null,
      "outputs": [
        {
          "output_type": "stream",
          "name": "stdout",
          "text": [
            "None\n"
          ]
        }
      ]
    },
    {
      "cell_type": "code",
      "source": [
        "def absolute_value(num):\n",
        "    \"\"\"This function will provide a greeting\n",
        "    to someone whose name is written in the argument\"\"\"\n",
        "    if num >= 0:\n",
        "        return num\n",
        "    else:\n",
        "        return -num\n",
        "\n",
        "# Output: 2\n",
        "print(absolute_value(2))\n",
        "\n",
        "# Output: 4\n",
        "print(absolute_value(-4))"
      ],
      "metadata": {
        "colab": {
          "base_uri": "https://localhost:8080/"
        },
        "id": "RM_rOdTq7Vgx",
        "outputId": "7187d7fb-c73e-48d3-a9ee-062422f8a8d2"
      },
      "execution_count": null,
      "outputs": [
        {
          "output_type": "stream",
          "name": "stdout",
          "text": [
            "2\n",
            "4\n"
          ]
        }
      ]
    },
    {
      "cell_type": "markdown",
      "source": [
        "# **Python Function Arguments**\n",
        "**Arguments**\n",
        "In user-defined functions, function calls must match the number of arguments\n",
        "For example, if we call the `greeting()` function without arguments it will error:\n",
        "\n",
        "\n",
        "> `regards() # no arguments`\n",
        "\n",
        "> `TypeError: greeting() missing 1 required positional arguments: 'name'`\n",
        "\n",
        "\n",
        "\n"
      ],
      "metadata": {
        "id": "OgN32e7q6bgS"
      }
    },
    {
      "cell_type": "code",
      "source": [
        "def areaTriangle(base,height):\n",
        "    \"\"\"Calculating the area of a triangle\"\"\"\n",
        "    area = 0.5 * base * height\n",
        "    return area\n",
        "# Try calling it by providing 2 arguments\n",
        "# Try calling it by providing 1 argument\n",
        "# Try calling without providing arguments"
      ],
      "metadata": {
        "id": "uqp6arCq8l5x"
      },
      "execution_count": null,
      "outputs": []
    },
    {
      "cell_type": "markdown",
      "source": [
        "**Try calling it by providing 2 arguments**"
      ],
      "metadata": {
        "id": "VimkZxmk8zjC"
      }
    },
    {
      "cell_type": "code",
      "source": [
        "base2 = 9\n",
        "height2 = 10\n",
        "def areaTriangle(base,height):\n",
        "    \"\"\"Calculating the area of a triangle\"\"\"\n",
        "    area2 = 0.5 * base2 * height2\n",
        "    return area2\n",
        "# Try calling it by providing 2 arguments\n",
        "areaTriangle(base2,height2)"
      ],
      "metadata": {
        "colab": {
          "base_uri": "https://localhost:8080/"
        },
        "id": "g6i31ZpI83oy",
        "outputId": "f4883195-9d6a-4d6e-9f11-e6d01bb4b1b1"
      },
      "execution_count": null,
      "outputs": [
        {
          "output_type": "execute_result",
          "data": {
            "text/plain": [
              "45.0"
            ]
          },
          "metadata": {},
          "execution_count": 73
        }
      ]
    },
    {
      "cell_type": "markdown",
      "source": [
        "**Try calling it by providing 1 argument**"
      ],
      "metadata": {
        "id": "8f7iMZiE9S5B"
      }
    },
    {
      "cell_type": "code",
      "source": [
        "base1 = 9\n",
        "height1 = 10\n",
        "def areaTriangle(base1,height1):\n",
        "    \"\"\"Calculating the area of a triangle\"\"\"\n",
        "    area1 = 0.5 * base1 * height1\n",
        "    return area1\n",
        "# Try calling it by providing 1 argument\n",
        "areaTriangle(base1)"
      ],
      "metadata": {
        "colab": {
          "base_uri": "https://localhost:8080/",
          "height": 176
        },
        "id": "Qz3cqt3y9WSp",
        "outputId": "75f85d34-6831-4404-dee0-62d5ae9233c4"
      },
      "execution_count": null,
      "outputs": [
        {
          "output_type": "error",
          "ename": "TypeError",
          "evalue": "areaTriangle() missing 1 required positional argument: 'height1'",
          "traceback": [
            "\u001b[0;31m---------------------------------------------------------------------------\u001b[0m",
            "\u001b[0;31mTypeError\u001b[0m                                 Traceback (most recent call last)",
            "\u001b[0;32m<ipython-input-72-58ff1455184b>\u001b[0m in \u001b[0;36m<cell line: 8>\u001b[0;34m()\u001b[0m\n\u001b[1;32m      6\u001b[0m     \u001b[0;32mreturn\u001b[0m \u001b[0marea1\u001b[0m\u001b[0;34m\u001b[0m\u001b[0;34m\u001b[0m\u001b[0m\n\u001b[1;32m      7\u001b[0m \u001b[0;34m\u001b[0m\u001b[0m\n\u001b[0;32m----> 8\u001b[0;31m \u001b[0mareaTriangle\u001b[0m\u001b[0;34m(\u001b[0m\u001b[0mbase1\u001b[0m\u001b[0;34m)\u001b[0m\u001b[0;34m\u001b[0m\u001b[0;34m\u001b[0m\u001b[0m\n\u001b[0m",
            "\u001b[0;31mTypeError\u001b[0m: areaTriangle() missing 1 required positional argument: 'height1'"
          ]
        }
      ]
    },
    {
      "cell_type": "markdown",
      "source": [
        "**Try calling without providing arguments**"
      ],
      "metadata": {
        "id": "sKa9VBsZ_TYA"
      }
    },
    {
      "cell_type": "code",
      "source": [
        "base = 9\n",
        "height = 10\n",
        "def areaTriangle(base,height):\n",
        "    \"\"\"Calculating the area of a triangle\"\"\"\n",
        "    area = 0.5 * base * height\n",
        "    return area\n",
        "\n",
        "areaTriangle()"
      ],
      "metadata": {
        "colab": {
          "base_uri": "https://localhost:8080/",
          "height": 176
        },
        "id": "n3qaD4G1_B7X",
        "outputId": "36ea69d4-5a86-4ebc-d6d2-14678e0305b4"
      },
      "execution_count": null,
      "outputs": [
        {
          "output_type": "error",
          "ename": "TypeError",
          "evalue": "areaTriangle() missing 2 required positional arguments: 'base' and 'height'",
          "traceback": [
            "\u001b[0;31m---------------------------------------------------------------------------\u001b[0m",
            "\u001b[0;31mTypeError\u001b[0m                                 Traceback (most recent call last)",
            "\u001b[0;32m<ipython-input-75-4978621c2b99>\u001b[0m in \u001b[0;36m<cell line: 8>\u001b[0;34m()\u001b[0m\n\u001b[1;32m      6\u001b[0m     \u001b[0;32mreturn\u001b[0m \u001b[0marea\u001b[0m\u001b[0;34m\u001b[0m\u001b[0;34m\u001b[0m\u001b[0m\n\u001b[1;32m      7\u001b[0m \u001b[0;34m\u001b[0m\u001b[0m\n\u001b[0;32m----> 8\u001b[0;31m \u001b[0mareaTriangle\u001b[0m\u001b[0;34m(\u001b[0m\u001b[0;34m)\u001b[0m\u001b[0;34m\u001b[0m\u001b[0;34m\u001b[0m\u001b[0m\n\u001b[0m",
            "\u001b[0;31mTypeError\u001b[0m: areaTriangle() missing 2 required positional arguments: 'base' and 'height'"
          ]
        }
      ]
    },
    {
      "cell_type": "markdown",
      "source": [
        "# **Variable Function Arguments**\n",
        "In Python there are several ways to define functions that can take a flexible number of arguments\n",
        "Three ways that can be done are as follows:\n"
      ],
      "metadata": {
        "id": "_atA_3Sf_h5J"
      }
    },
    {
      "cell_type": "markdown",
      "source": [
        "## **Python Default Arguments**\n",
        "* Function arguments can be given default arguments\n",
        "* We can define default values for arguments with the assignment operator ( = )\n",
        "* Arguments that do not have a default value (non-default arguments) must still be given a value when\n",
        "calling the function\n",
        "* All arguments after the default arguments must also be default arguments (non-default arguments must\n",
        "be defined before the default arguments)"
      ],
      "metadata": {
        "id": "Nz3Yaibv_p3w"
      }
    },
    {
      "cell_type": "code",
      "source": [
        "# Try creating a function like the one below, which has 2 arguments, one of which\n",
        "def greeting(name, slm=\"Assalamualaikum\"):\n",
        "    \"\"\"This function will provide a greeting according to the greeting argument,\n",
        "    to someone whose name is written in the argument\"\"\"\n",
        "    print(slm+\", \"+name+\"!\")\n",
        "# Call the function greeting() with one argument\n",
        "greeting('Izzar')\n",
        "# Call the function greeting() with two arguments\n",
        "greeting('Izzar','Salam dari Jombang')\n"
      ],
      "metadata": {
        "colab": {
          "base_uri": "https://localhost:8080/"
        },
        "id": "J2FNTjKv_pNg",
        "outputId": "f1555f5c-e4ec-4938-e27e-26ff9642daa6"
      },
      "execution_count": null,
      "outputs": [
        {
          "output_type": "stream",
          "name": "stdout",
          "text": [
            "Assalamualaikum, Izzar!\n",
            "Salam dari Jombang, Izzar!\n"
          ]
        }
      ]
    },
    {
      "cell_type": "code",
      "source": [
        "def areaTriangle(base=0, height=0):\n",
        "    \"\"\"Calculating the area of a triangle\"\"\"\n",
        "    area = 0.5 * base * height\n",
        "    return area\n",
        "\n",
        "# Example function calls with various arguments:\n",
        "\n",
        "# 1. Calling with two arguments:\n",
        "print(areaTriangle(10, 5))\n",
        "# Output: 25.0\n",
        "\n",
        "# 2. Calling with one argument:\n",
        "print(areaTriangle(10))\n",
        "# Output: 0.0 (because height defaults to 0)\n",
        "\n",
        "# 3. Calling without arguments:\n",
        "print(areaTriangle())\n",
        "# Output: 0.0 (because both base and height default to 0)\n",
        "\n",
        "# 4. Calling with decimal values:\n",
        "print(areaTriangle(6.5, 4.2))\n",
        "# Output: 13.65\n",
        "\n",
        "# 5. Calling with negative values:\n",
        "print(areaTriangle(-5, 8))\n",
        "# Output: -20.0 (because the base is negative)\n"
      ],
      "metadata": {
        "colab": {
          "base_uri": "https://localhost:8080/"
        },
        "id": "-wIkH7TICwi_",
        "outputId": "4a4c85fb-82c6-44ef-86c7-763c2cd0f3e2"
      },
      "execution_count": null,
      "outputs": [
        {
          "output_type": "stream",
          "name": "stdout",
          "text": [
            "25.0\n",
            "0.0\n",
            "0.0\n",
            "13.65\n",
            "-20.0\n"
          ]
        }
      ]
    },
    {
      "cell_type": "markdown",
      "source": [
        "## **Python Keyword Arguments**\n",
        "* The argument values given when calling a function are ordered based on their position in the function\n",
        "definition\n",
        "* For example, in the `greeting()` function, we can call it greeting(\"Izzar\", \"Assalamualaikum\"), where\n",
        "\"Izzar* \" is the value for the name argument and \"Assalamualaikum\" is the value for the greeting\n",
        "argument\n",
        "* Function calls in Python can use the arguments keyword to change the order of the arguments. The\n",
        "following call will produce the same result:\n",
        "\n",
        "* **2 keyword arguments**\n",
        "> `greeting(name = \"Izzar\",slm = \"Good Morning\")`\n",
        "\n",
        "\n",
        "*  **2 keyword arguments (out of order)**\n",
        "> `greeting(slm = \"Good Morning\", name = \"Izzar\")`\n",
        "\n",
        "\n",
        "* **1 positional, 1 keyword argument**\n",
        "> `greeting(\"Izzar\",slm = \"Good Morning\")`\n",
        "\n",
        "* Writing positional arguments after the arguments keyword will cause an error:\n",
        "*  1 positional, 1 keyword argument\n",
        "> `greeting(name = \"Izzar\",\"Good Morning\")`\n",
        "\n"
      ],
      "metadata": {
        "id": "z8j8VlXbAtlh"
      }
    },
    {
      "cell_type": "markdown",
      "source": [
        "## **Python Arbitrary Arguments**\n",
        "Sometimes, we don't know the number of arguments we have to give. We can overcome this problem by defining functions with arbitrary arguments. When defining a function, we use an asterisk (*) before the parameter name to define arbitrary\n",
        "arguments"
      ],
      "metadata": {
        "id": "6U6eEyG9DCsw"
      }
    },
    {
      "cell_type": "code",
      "source": [
        "def greeting2(*names):\n",
        "  \"\"\"This function will provide a greeting\n",
        "  to everyone whose name is in the tuple \"\"\"\n",
        "  # names is a tuple with arguments\n",
        "  for name in names:\n",
        "      print(\"Assalamualaikum\",name)\n",
        "# Call the function greeting2 with a tuple argument\n",
        "greeting2(\"Hisyam\", \"Fahmi\", \"Steve\", \"Jobs\", \"Izzar\", \"Suly\", \"Nashrudin\")"
      ],
      "metadata": {
        "colab": {
          "base_uri": "https://localhost:8080/"
        },
        "id": "u6Xe-u5XDJ3n",
        "outputId": "0c5ad751-dc19-4aa1-c1f8-b3dfeb8342bc"
      },
      "execution_count": null,
      "outputs": [
        {
          "output_type": "stream",
          "name": "stdout",
          "text": [
            "Assalamualaikum Hisyam\n",
            "Assalamualaikum Fahmi\n",
            "Assalamualaikum Steve\n",
            "Assalamualaikum Jobs\n",
            "Assalamualaikum Izzar\n",
            "Assalamualaikum Suly\n",
            "Assalamualaikum Nashrudin\n"
          ]
        }
      ]
    },
    {
      "cell_type": "markdown",
      "source": [
        "# **Exercise**"
      ],
      "metadata": {
        "id": "st4gDIlmDtFn"
      }
    },
    {
      "cell_type": "markdown",
      "source": [
        "**1. Define a function to check odd/even numbers**"
      ],
      "metadata": {
        "id": "5xLtmrdYD15e"
      }
    },
    {
      "cell_type": "code",
      "source": [
        "def checknum(number):\n",
        "    if number % 2 == 0:\n",
        "        return \"even number\"\n",
        "    else:\n",
        "        return \"odd number\"\n",
        "\n",
        "#Calling Output\n",
        "n = int(input(\"Enter a number: \"))\n",
        "result = checknum(n)\n",
        "print(f\"The number {n} is {result}.\")"
      ],
      "metadata": {
        "colab": {
          "base_uri": "https://localhost:8080/"
        },
        "id": "NHbiudtCEZ6X",
        "outputId": "f1ea32a6-afe4-41bb-ce8a-4f0b65cc3746"
      },
      "execution_count": null,
      "outputs": [
        {
          "output_type": "stream",
          "name": "stdout",
          "text": [
            "Enter a number: 11\n",
            "The number 11 is odd number.\n"
          ]
        }
      ]
    },
    {
      "cell_type": "markdown",
      "source": [
        "**2. Define a function to find the factors of a number, what is returned is a list of the factors**"
      ],
      "metadata": {
        "id": "BFXS35OAD4qW"
      }
    },
    {
      "cell_type": "code",
      "source": [
        "def findFactor(number):\n",
        "    factors = []\n",
        "    for i in range(1, number + 1):\n",
        "        if number % i == 0:\n",
        "            factors.append(i)\n",
        "    return factors\n",
        "\n",
        "#Calling Output\n",
        "n = int(input(\"Enter a number: \"))\n",
        "result = findFactor(n)\n",
        "print(f\"The factors of {n} are: {result}\")"
      ],
      "metadata": {
        "colab": {
          "base_uri": "https://localhost:8080/"
        },
        "id": "etluMSDrEZhY",
        "outputId": "a0a5d956-2761-4066-f5ea-04843f3dab57"
      },
      "execution_count": null,
      "outputs": [
        {
          "output_type": "stream",
          "name": "stdout",
          "text": [
            "Enter a number: 2004\n",
            "The factors of 2004 are: [1, 2, 3, 4, 6, 12, 167, 334, 501, 668, 1002, 2004]\n"
          ]
        }
      ]
    },
    {
      "cell_type": "markdown",
      "source": [
        "**3. Define a function to check prime numbers that returns True if it is prime and False if it is not prime**"
      ],
      "metadata": {
        "id": "iIXZckzgD7An"
      }
    },
    {
      "cell_type": "code",
      "source": [
        "number = int(input(\"Enter a number: \"))\n",
        "\n",
        "def checkPrime(number):\n",
        "    if number < 2:\n",
        "        return False\n",
        "    for i in range(2, int(number**0.5) + 1):\n",
        "        if number % i == 0:\n",
        "            return False\n",
        "    return True\n",
        "\n",
        "result = checkPrime(number)\n",
        "\n",
        "if result:\n",
        "    print(f\"{number} is a prime number.\")\n",
        "else:\n",
        "    print(f\"{number} is not a prime number.\")\n"
      ],
      "metadata": {
        "colab": {
          "base_uri": "https://localhost:8080/"
        },
        "id": "ZA5a52tsJNMO",
        "outputId": "a583bfce-5bb6-492d-ad89-d5bf0e6af3a1"
      },
      "execution_count": 3,
      "outputs": [
        {
          "output_type": "stream",
          "name": "stdout",
          "text": [
            "Enter a number: 18\n",
            "18 is not a prime number.\n"
          ]
        }
      ]
    },
    {
      "cell_type": "markdown",
      "source": [
        "# **Trials**"
      ],
      "metadata": {
        "id": "Eiv5Awll3Lyj"
      }
    },
    {
      "cell_type": "code",
      "source": [
        "# Recursive Function to calculate Factorial of a number\n",
        "def factorial(n):\n",
        "    # Base case\n",
        "    if n == 0:\n",
        "        return 1\n",
        "\n",
        "    # Recursive case\n",
        "    return n * factorial(n - 1)\n",
        "\n",
        "# Driver Code\n",
        "if __name__ == \"__main__\":\n",
        "    n = 4\n",
        "\n",
        "    print(\"Factorial of\", n, \"is:\", factorial(n))"
      ],
      "metadata": {
        "colab": {
          "base_uri": "https://localhost:8080/"
        },
        "id": "ZODBwpkv1L80",
        "outputId": "b822e804-a19d-4710-b0ee-e01b74ae597a"
      },
      "execution_count": null,
      "outputs": [
        {
          "output_type": "stream",
          "name": "stdout",
          "text": [
            "Factorial of 4 is: 24\n"
          ]
        }
      ]
    },
    {
      "cell_type": "code",
      "source": [
        "def nth_fibonacci(n):\n",
        "\n",
        "    # Base case: if n is 0 or 1, return n\n",
        "    if n <= 1:\n",
        "        return n\n",
        "        print(nth_fibonacci(n))\n",
        "\n",
        "    # Recursive case: sum of the two preceding Fibonacci numbers\n",
        "    return nth_fibonacci(n - 1) + nth_fibonacci(n - 2)\n",
        "\n",
        "def fibonacci_list(n):\n",
        "    fib_list = []\n",
        "    for i in range(n):\n",
        "        if i <= 1:\n",
        "            fib_list.append(i)\n",
        "        else:\n",
        "            fib_list.append(fib_list[i - 1] + fib_list[i - 2])\n",
        "    return fib_list\n",
        "\n",
        "n = 10\n",
        "result = fibonacci_list(n)\n",
        "print(result)\n",
        "result2 = nth_fibonacci(n)\n",
        "print(result2)\n"
      ],
      "metadata": {
        "colab": {
          "base_uri": "https://localhost:8080/"
        },
        "id": "lUuTsizM1RPb",
        "outputId": "cba9954d-4101-47f0-dd78-86eeb271f580"
      },
      "execution_count": null,
      "outputs": [
        {
          "output_type": "stream",
          "name": "stdout",
          "text": [
            "[0, 1, 1, 2, 3, 5, 8, 13, 21, 34]\n",
            "55\n"
          ]
        }
      ]
    },
    {
      "cell_type": "markdown",
      "source": [
        "**READ MORE** :  https://www.programiz.com/python-programming"
      ],
      "metadata": {
        "id": "Nmfcw2MaEF13"
      }
    }
  ]
}