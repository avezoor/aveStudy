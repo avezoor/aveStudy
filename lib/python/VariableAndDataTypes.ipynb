{
  "nbformat": 4,
  "nbformat_minor": 0,
  "metadata": {
    "colab": {
      "provenance": [],
      "toc_visible": true,
      "authorship_tag": "ABX9TyPfRLaOgqVPHm0j8MIvvBWl"
    },
    "kernelspec": {
      "name": "python3",
      "display_name": "Python 3"
    },
    "language_info": {
      "name": "python"
    }
  },
  "cells": [
    {
      "cell_type": "markdown",
      "source": [
        "> @Author.Name{Izzar Suly Nashrudin}"
      ],
      "metadata": {
        "id": "Wwi6GOtdcGvk"
      }
    },
    {
      "cell_type": "markdown",
      "source": [
        "# **Variable**\n",
        "* Variable is an address allocation in memory to store value by giving a certain name/symbol\n",
        "* Variable names can consist of letters, numbers, and underscore `( _ )`\n",
        "* Variable names cannot begin with a number\n",
        "* To declare a variable, we must immediately fill it with its value `(initialization)`\n",
        "* Variable initialization process requires assignment operator `( = )`\n",
        "* Syntax initialization variable is as follows:\n",
        "`VariableName = Value`"
      ],
      "metadata": {
        "id": "Cdzvy56JCXS_"
      }
    },
    {
      "cell_type": "markdown",
      "source": [
        "# **Data Types**\n",
        "* Data types are the types of data that can be stored in a variable\n",
        "* Data types can represent numeric data, text data, logical values\n",
        "* Types of data types in Python are not explicitly written at the time of declaration (as in Java or\n",
        "C), but are specified when initializing values\n",
        "* To find out the data type of a value or variable, use the command `type()`"
      ],
      "metadata": {
        "id": "20vGqojpC84F"
      }
    },
    {
      "cell_type": "markdown",
      "source": [
        "## **Numeric Data**\n",
        "Numerical data that can be used includes integers, real numbers and complex numbers\n",
        "objects of numeric type cannot be changed in value or are immutable"
      ],
      "metadata": {
        "id": "7V0CoAetDqoF"
      }
    },
    {
      "cell_type": "markdown",
      "source": [
        "### **Integer (int)**\n",
        "The int data type is defined directly by writing its number value without any other symbols\n",
        "\n",
        "For example:\n",
        "```\n",
        "100\n",
        "x = 10\n",
        "print(2)\n",
        "```\n",
        "\n"
      ],
      "metadata": {
        "id": "HO6HJW6BEAt_"
      }
    },
    {
      "cell_type": "markdown",
      "source": [
        "### **Real Number (float)**\n",
        "The float data type is defined by writing its numeric value with a period separator `( . )` as afraction\n",
        "\n",
        "For example:\n",
        "\n",
        "```\n",
        "1.5\n",
        "x = 3.0\n",
        "print(2.25)\n",
        "```\n",
        "\n"
      ],
      "metadata": {
        "id": "NsaQ9ksxELs1"
      }
    },
    {
      "cell_type": "markdown",
      "source": [
        "### **Complex Number (float)**\n",
        "The complex data type is defined by writing the value of a real number combined with `+` or `-`\n",
        "an imaginary number ending with the letter `j`\n",
        "\n",
        "For example:\n",
        "```\n",
        "1.5+2j\n",
        "x = 3+3j\n",
        "print(5-1j)\n",
        "```\n",
        "\n"
      ],
      "metadata": {
        "id": "ibyPQ7GzFAqz"
      }
    },
    {
      "cell_type": "markdown",
      "source": [
        "To take the real part you can call the `real` attribute, and to take the imaginary part you can\n",
        "use the `imag` attribute, for example:\n",
        "\n",
        "```\n",
        "x.real\n",
        "x.imag\n",
        "```\n",
        "\n"
      ],
      "metadata": {
        "id": "vc69qjSMFl6E"
      }
    },
    {
      "cell_type": "markdown",
      "source": [
        "### **Boolean Data Types (bool)**\n",
        "* Boolean is a data type that represents `true` or `false` values\n",
        "* The values that can be given are `True` or `False`\n",
        "* If converted to type `int` , the value `True` will produce the value `1` and `False` will produce\n",
        "the value `0`"
      ],
      "metadata": {
        "id": "tyjqvvdyKTjm"
      }
    },
    {
      "cell_type": "markdown",
      "source": [
        "## **Text Data**"
      ],
      "metadata": {
        "id": "twVliL5PKw6l"
      }
    },
    {
      "cell_type": "markdown",
      "source": [
        "### **String Data Types (str)**\n",
        "* String in Python are a set of Unicode characters.\n",
        "* Can be defined in 3 ways, namely:\n",
        "  1. The text is enclosed in single quotation marks `( ' )`\n",
        "  2. The text is enclosed in double quotation marks `( \" )`\n",
        "  3. Text enclosed in single or double quotation marks is typed 3 times `( ''' )/( \"\"\" )`\n",
        "* The third way is usually used to define a string of more than one line"
      ],
      "metadata": {
        "id": "SnLrJW_nK2GI"
      }
    },
    {
      "cell_type": "markdown",
      "source": [
        "### **Taking Input from Keyboard**\n",
        "* To take input from the keyboard, use the `input()` function which is assigned to a variable\n",
        "* For example: `a = input(\"Enter an int number: \")`\n",
        "* After running, a cursor will appear to type input\n",
        "The type of data entered is always **string**\n"
      ],
      "metadata": {
        "id": "KD0WKuO_OKZ-"
      }
    },
    {
      "cell_type": "markdown",
      "source": [
        "# **Exercise**"
      ],
      "metadata": {
        "id": "v7YciOO0PJwz"
      }
    },
    {
      "cell_type": "markdown",
      "source": [
        "## **Self Check 1**\n"
      ],
      "metadata": {
        "id": "QbPJryEgCpVH"
      }
    },
    {
      "cell_type": "markdown",
      "source": [
        "Pay attention to the command below!\n",
        "Which is an incorrect variable initialization?"
      ],
      "metadata": {
        "id": "Rndkil5hC3SU"
      }
    },
    {
      "cell_type": "code",
      "execution_count": null,
      "metadata": {
        "id": "14YunsAgBVb2"
      },
      "outputs": [],
      "source": [
        "var1 = 1\n",
        "_var2 = 2"
      ]
    },
    {
      "cell_type": "code",
      "source": [
        "3var3 = 3\n",
        "var4"
      ],
      "metadata": {
        "colab": {
          "base_uri": "https://localhost:8080/",
          "height": 106
        },
        "collapsed": true,
        "id": "2grM58hpC9gZ",
        "outputId": "9224bf19-2787-470e-d13a-325060ff5455"
      },
      "execution_count": null,
      "outputs": [
        {
          "output_type": "error",
          "ename": "SyntaxError",
          "evalue": "invalid decimal literal (<ipython-input-4-c0db54b01a5c>, line 1)",
          "traceback": [
            "\u001b[0;36m  File \u001b[0;32m\"<ipython-input-4-c0db54b01a5c>\"\u001b[0;36m, line \u001b[0;32m1\u001b[0m\n\u001b[0;31m    3var3 = 3\u001b[0m\n\u001b[0m    ^\u001b[0m\n\u001b[0;31mSyntaxError\u001b[0m\u001b[0;31m:\u001b[0m invalid decimal literal\n"
          ]
        }
      ]
    },
    {
      "cell_type": "markdown",
      "source": [
        "## **Self Check 2**\n",
        "Pay attention to the command below!\n",
        "Determine the number or variable data type below?\n",
        "\n",
        "\n",
        "\n",
        "```\n",
        "2020.1002\n",
        "a = 102\n",
        "222\n",
        "b = 20+2j\n",
        "-5j+2\n",
        "c = 10.02e-20\n",
        "```\n",
        "\n"
      ],
      "metadata": {
        "id": "uN_tmJHzGKE8"
      }
    },
    {
      "cell_type": "markdown",
      "source": [
        "Let's check"
      ],
      "metadata": {
        "id": "4l2OTN7FG6Dq"
      }
    },
    {
      "cell_type": "code",
      "source": [
        "2020.1002\n",
        "print(type(2020.1002))\n",
        "a = 102\n",
        "print(type(a))\n",
        "222\n",
        "print(type(222))\n",
        "b = 20+2j\n",
        "print(type(b))\n",
        "-5j+2\n",
        "print(type(-5j+2))\n",
        "c = 10.02e-20\n",
        "print(type(c))"
      ],
      "metadata": {
        "colab": {
          "base_uri": "https://localhost:8080/"
        },
        "collapsed": true,
        "id": "9ArK5JlTFlVB",
        "outputId": "98b550fe-dc9f-4ba8-ecb1-c8da4b807e91"
      },
      "execution_count": null,
      "outputs": [
        {
          "output_type": "stream",
          "name": "stdout",
          "text": [
            "<class 'float'>\n",
            "<class 'int'>\n",
            "<class 'int'>\n",
            "<class 'complex'>\n",
            "<class 'complex'>\n",
            "<class 'float'>\n"
          ]
        }
      ]
    },
    {
      "cell_type": "markdown",
      "source": [
        "## **Self Check 3**\n",
        "Take the real and imaginary parts of the variable `b` above?"
      ],
      "metadata": {
        "id": "2nDsTu2QIjZC"
      }
    },
    {
      "cell_type": "code",
      "source": [
        "b.real"
      ],
      "metadata": {
        "colab": {
          "base_uri": "https://localhost:8080/"
        },
        "collapsed": true,
        "id": "gdTqHx1mIjCq",
        "outputId": "20cb0e97-277d-4b5a-e63b-32ab62ae7125"
      },
      "execution_count": null,
      "outputs": [
        {
          "output_type": "execute_result",
          "data": {
            "text/plain": [
              "20.0"
            ]
          },
          "metadata": {},
          "execution_count": 21
        }
      ]
    },
    {
      "cell_type": "code",
      "source": [
        "b.imag"
      ],
      "metadata": {
        "colab": {
          "base_uri": "https://localhost:8080/"
        },
        "collapsed": true,
        "id": "fDYc7BjPE6TR",
        "outputId": "cf617b86-da76-47b2-d9b7-5d69bd2a4641"
      },
      "execution_count": null,
      "outputs": [
        {
          "output_type": "execute_result",
          "data": {
            "text/plain": [
              "2.0"
            ]
          },
          "metadata": {},
          "execution_count": 20
        }
      ]
    },
    {
      "cell_type": "markdown",
      "source": [
        "## **Self Check 4**\n",
        "Pay attention to the command below!\n",
        "Run it and see the results!"
      ],
      "metadata": {
        "id": "bcJMWnRoKK8i"
      }
    },
    {
      "cell_type": "code",
      "source": [
        "s1='PK'\n",
        "print(s1)\n",
        "s2=\"Python\"\n",
        "print(s2)\n",
        "s3='\\nComputer Programming\\nwith Python\\n'\n",
        "print(s3)\n",
        "s4=\"\"\"Computer Programming\n",
        "with Python\"\"\"\n",
        "print(s4)"
      ],
      "metadata": {
        "colab": {
          "base_uri": "https://localhost:8080/"
        },
        "collapsed": true,
        "id": "hucNPit_LnuK",
        "outputId": "58ee78b6-56c9-4e18-c80d-0fb4511197d2"
      },
      "execution_count": null,
      "outputs": [
        {
          "output_type": "stream",
          "name": "stdout",
          "text": [
            "PK\n",
            "Python\n",
            "\n",
            "Computer Programming\n",
            "with Python\n",
            "\n",
            "Computer Programming\n",
            "with Python\n"
          ]
        }
      ]
    },
    {
      "cell_type": "markdown",
      "source": [
        "* Because this string data type is actually a character set object, string has several functions for\n",
        "string processing\n",
        "* For example to change to uppercase or change to lowercase all characters, check whether the\n",
        "character string is a number, concatenate several strings, etc.\n",
        "\n",
        "\n"
      ],
      "metadata": {
        "id": "BfR-J2LoMCfo"
      }
    },
    {
      "cell_type": "markdown",
      "source": [
        "## **Self Check 5**\n",
        "Pay attention to the command below!\n",
        "Run it and see the results!"
      ],
      "metadata": {
        "id": "g1bR0t0eML32"
      }
    },
    {
      "cell_type": "code",
      "source": [
        "text = 'I learn Python'\n",
        "print(text.upper())\n",
        "print(text.lower())\n",
        "print(text.capitalize())\n",
        "print('10022020'.isnumeric())\n",
        "print('10022o20'.isnumeric())"
      ],
      "metadata": {
        "colab": {
          "base_uri": "https://localhost:8080/"
        },
        "collapsed": true,
        "id": "HaIbyiPEMP2-",
        "outputId": "1be696d2-9cca-40cf-81d6-407b479625fb"
      },
      "execution_count": null,
      "outputs": [
        {
          "output_type": "stream",
          "name": "stdout",
          "text": [
            "I LEARN PYTHON\n",
            "i learn python\n",
            "I learn python\n",
            "True\n",
            "False\n"
          ]
        }
      ]
    },
    {
      "cell_type": "markdown",
      "source": [
        "* If you want to convert a value from string type to int, use the `int()` function\n",
        "* Otherwise if converting from int to string, use the `str()` function\n",
        "* Likewise if you want to convert from string to float, use `float()` function\n"
      ],
      "metadata": {
        "id": "uBM62IdAMpZ9"
      }
    },
    {
      "cell_type": "markdown",
      "source": [
        "## **Self Check 6**\n",
        "Pay attention to the command below!\n",
        "Run and determine the data type of each variable!\n",
        "\n",
        "\n",
        "```\n",
        "a = '1234'\n",
        "b = int(a)\n",
        "c = float(a)\n",
        "d = True\n",
        "e = int(d)\n",
        "```\n",
        "\n"
      ],
      "metadata": {
        "id": "vWqwVFEeMxNZ"
      }
    },
    {
      "cell_type": "code",
      "source": [
        "a = '1234'\n",
        "b = int(a)\n",
        "c = float(a)\n",
        "d = True\n",
        "e = int(d)\n",
        "print(a)\n",
        "print(b)\n",
        "print(c)\n",
        "print(d)\n",
        "print(e)\n",
        "print(type(a))\n",
        "print(type(b))\n",
        "print(type(c))\n",
        "print(type(d))\n",
        "print(type(e))"
      ],
      "metadata": {
        "colab": {
          "base_uri": "https://localhost:8080/"
        },
        "collapsed": true,
        "id": "adveRKvYM600",
        "outputId": "6628bed8-6152-406b-a304-1fa5ec1d6307"
      },
      "execution_count": null,
      "outputs": [
        {
          "output_type": "stream",
          "name": "stdout",
          "text": [
            "1234\n",
            "1234\n",
            "1234.0\n",
            "True\n",
            "1\n",
            "<class 'str'>\n",
            "<class 'int'>\n",
            "<class 'float'>\n",
            "<class 'bool'>\n",
            "<class 'int'>\n"
          ]
        }
      ]
    },
    {
      "cell_type": "markdown",
      "source": [
        "## **Self Check 7**\n",
        "Pay attention to the example command below!\n",
        "Run it and see the results?\n",
        "\n",
        "Try adding commands for conversion to other data types!"
      ],
      "metadata": {
        "id": "kmwsXgHAOodk"
      }
    },
    {
      "cell_type": "code",
      "source": [
        "a = input(\"Input the value: \")\n",
        "type(a)"
      ],
      "metadata": {
        "colab": {
          "base_uri": "https://localhost:8080/"
        },
        "collapsed": true,
        "id": "mYRBn3t5OuET",
        "outputId": "6a0957f3-df9e-4220-fa17-5dc10f8081e6"
      },
      "execution_count": null,
      "outputs": [
        {
          "name": "stdout",
          "output_type": "stream",
          "text": [
            "Input the value: test\n"
          ]
        },
        {
          "output_type": "execute_result",
          "data": {
            "text/plain": [
              "str"
            ]
          },
          "metadata": {},
          "execution_count": 35
        }
      ]
    }
  ]
}